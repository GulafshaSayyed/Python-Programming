{
 "cells": [
  {
   "cell_type": "code",
   "execution_count": 1,
   "id": "ece3d202-13de-425a-a2ed-a435211f7380",
   "metadata": {},
   "outputs": [
    {
     "data": {
      "text/plain": [
       "'helloworld'"
      ]
     },
     "execution_count": 1,
     "metadata": {},
     "output_type": "execute_result"
    }
   ],
   "source": [
    "\"hello\"+\"world\""
   ]
  },
  {
   "cell_type": "code",
   "execution_count": 2,
   "id": "91ebfbd3-dc56-4ba5-ba91-b1003d8966f2",
   "metadata": {},
   "outputs": [
    {
     "data": {
      "text/plain": [
       "11"
      ]
     },
     "execution_count": 2,
     "metadata": {},
     "output_type": "execute_result"
    }
   ],
   "source": [
    "len(\"hello world\")"
   ]
  },
  {
   "cell_type": "code",
   "execution_count": 3,
   "id": "bf7da5da-975c-4c86-8234-e9b9d165c26e",
   "metadata": {},
   "outputs": [
    {
     "name": "stdout",
     "output_type": "stream",
     "text": [
      "line1\n",
      "line2\n"
     ]
    }
   ],
   "source": [
    "print(\"line1\\nline2\")"
   ]
  },
  {
   "cell_type": "code",
   "execution_count": 4,
   "id": "a5dc3b44-8d9b-46f3-a10f-2800a576212e",
   "metadata": {},
   "outputs": [
    {
     "name": "stdout",
     "output_type": "stream",
     "text": [
      "line1\tline2\n"
     ]
    }
   ],
   "source": [
    " print(\"line1\\tline2\")"
   ]
  },
  {
   "cell_type": "code",
   "execution_count": 5,
   "id": "63d43286-1a8d-44de-ac25-685f03f5c8d8",
   "metadata": {},
   "outputs": [
    {
     "name": "stdout",
     "output_type": "stream",
     "text": [
      "H\n",
      "e\n"
     ]
    },
    {
     "ename": "TypeError",
     "evalue": "'str' object does not support item assignment",
     "output_type": "error",
     "traceback": [
      "\u001b[1;31m---------------------------------------------------------------------------\u001b[0m",
      "\u001b[1;31mTypeError\u001b[0m                                 Traceback (most recent call last)",
      "Cell \u001b[1;32mIn[5], line 4\u001b[0m\n\u001b[0;32m      2\u001b[0m \u001b[38;5;28mprint\u001b[39m(\u001b[38;5;28mstr\u001b[39m[\u001b[38;5;241m0\u001b[39m])\n\u001b[0;32m      3\u001b[0m \u001b[38;5;28mprint\u001b[39m(\u001b[38;5;28mstr\u001b[39m[\u001b[38;5;241m1\u001b[39m])\n\u001b[1;32m----> 4\u001b[0m \u001b[38;5;28;43mstr\u001b[39;49m\u001b[43m[\u001b[49m\u001b[38;5;241;43m0\u001b[39;49m\u001b[43m]\u001b[49m\u001b[38;5;241m=\u001b[39m\u001b[38;5;124m'\u001b[39m\u001b[38;5;124mB\u001b[39m\u001b[38;5;124m'\u001b[39m\n",
      "\u001b[1;31mTypeError\u001b[0m: 'str' object does not support item assignment"
     ]
    }
   ],
   "source": [
    "str=\"Hello_world\"\n",
    "print(str[0])\n",
    "print(str[1])\n",
    "str[0]='B'"
   ]
  },
  {
   "cell_type": "code",
   "execution_count": 10,
   "id": "adc2861d-86b1-44ac-8170-1240c01485f0",
   "metadata": {},
   "outputs": [
    {
     "data": {
      "text/plain": [
       "'ell'"
      ]
     },
     "execution_count": 10,
     "metadata": {},
     "output_type": "execute_result"
    }
   ],
   "source": [
    "str[1:4]"
   ]
  },
  {
   "cell_type": "code",
   "execution_count": 11,
   "id": "23b3b269-afa4-4857-a10e-e169901ab310",
   "metadata": {},
   "outputs": [
    {
     "data": {
      "text/plain": [
       "'ello_world'"
      ]
     },
     "execution_count": 11,
     "metadata": {},
     "output_type": "execute_result"
    }
   ],
   "source": [
    "str[1:len(str)]"
   ]
  },
  {
   "cell_type": "code",
   "execution_count": 12,
   "id": "b5ba7fbd-0e33-4cb3-bb30-6db131c57864",
   "metadata": {},
   "outputs": [
    {
     "data": {
      "text/plain": [
       "'worl'"
      ]
     },
     "execution_count": 12,
     "metadata": {},
     "output_type": "execute_result"
    }
   ],
   "source": [
    "str[-5:-1]"
   ]
  },
  {
   "cell_type": "code",
   "execution_count": 14,
   "id": "ae63c96f-258e-4f59-89ce-dd65438a709d",
   "metadata": {},
   "outputs": [
    {
     "data": {
      "text/plain": [
       "True"
      ]
     },
     "execution_count": 14,
     "metadata": {},
     "output_type": "execute_result"
    }
   ],
   "source": [
    "str.endswith(\"ld\")"
   ]
  },
  {
   "cell_type": "code",
   "execution_count": 16,
   "id": "92c26505-9392-4c4b-98c3-5186b6eb484f",
   "metadata": {},
   "outputs": [
    {
     "data": {
      "text/plain": [
       "'Hello_world'"
      ]
     },
     "execution_count": 16,
     "metadata": {},
     "output_type": "execute_result"
    }
   ],
   "source": [
    "str.capitalize()"
   ]
  },
  {
   "cell_type": "code",
   "execution_count": 21,
   "id": "0335c64d-d2dd-4af8-8fd0-bb8b87bfbc1a",
   "metadata": {},
   "outputs": [
    {
     "data": {
      "text/plain": [
       "'Hi_world'"
      ]
     },
     "execution_count": 21,
     "metadata": {},
     "output_type": "execute_result"
    }
   ],
   "source": [
    "str.replace(\"Hello\",\"Hi\")"
   ]
  },
  {
   "cell_type": "code",
   "execution_count": 25,
   "id": "803706aa-ef57-42f0-aed4-de5dc334a050",
   "metadata": {},
   "outputs": [
    {
     "data": {
      "text/plain": [
       "4"
      ]
     },
     "execution_count": 25,
     "metadata": {},
     "output_type": "execute_result"
    }
   ],
   "source": [
    "str.find(\"o\")"
   ]
  },
  {
   "cell_type": "code",
   "execution_count": 27,
   "id": "bb47162e-64b9-4346-b2c5-ca9201b2ef4f",
   "metadata": {},
   "outputs": [
    {
     "data": {
      "text/plain": [
       "2"
      ]
     },
     "execution_count": 27,
     "metadata": {},
     "output_type": "execute_result"
    }
   ],
   "source": [
    "str.count(\"o\")"
   ]
  },
  {
   "cell_type": "code",
   "execution_count": 28,
   "id": "338238f1-2747-43cb-ac31-1c466a0d0fe8",
   "metadata": {},
   "outputs": [
    {
     "name": "stdin",
     "output_type": "stream",
     "text": [
      "Enter first name: gulafsha\n"
     ]
    },
    {
     "name": "stdout",
     "output_type": "stream",
     "text": [
      "length is 8\n"
     ]
    }
   ],
   "source": [
    "#1\n",
    "name=input(\"Enter first name:\")\n",
    "print(\"length is\",len(name))"
   ]
  },
  {
   "cell_type": "code",
   "execution_count": 30,
   "id": "08e639d4-91cb-4aee-9e49-87273562254b",
   "metadata": {},
   "outputs": [
    {
     "data": {
      "text/plain": [
       "2"
      ]
     },
     "execution_count": 30,
     "metadata": {},
     "output_type": "execute_result"
    }
   ],
   "source": [
    "#2\n",
    "str=\"Price of fruite in $ is $20\"\n",
    "str.count(\"$\")"
   ]
  },
  {
   "cell_type": "code",
   "execution_count": 33,
   "id": "3496434b-9f7c-41d6-8621-d76071a61a34",
   "metadata": {},
   "outputs": [
    {
     "name": "stdin",
     "output_type": "stream",
     "text": [
      "Enter marks: 87\n"
     ]
    },
    {
     "name": "stdout",
     "output_type": "stream",
     "text": [
      "Grade B\n"
     ]
    }
   ],
   "source": [
    "#grade student\n",
    "marks=int(input(\"Enter marks:\"))\n",
    "if(marks>=90):\n",
    "    print(\"Grade A\")\n",
    "elif(marks<90 and marks>=80):\n",
    "    print(\"Grade B\")\n",
    "elif(marks<80 and marks>=70):\n",
    "    print(\"Grade C\") \n",
    "else:\n",
    "    print(\"Grade D\")\n"
   ]
  },
  {
   "cell_type": "code",
   "execution_count": 34,
   "id": "d31aeed0-a0ba-407d-84a0-6ec10f24eb54",
   "metadata": {},
   "outputs": [
    {
     "name": "stdin",
     "output_type": "stream",
     "text": [
      "Enter number: 87\n"
     ]
    },
    {
     "name": "stdout",
     "output_type": "stream",
     "text": [
      "87  is odd number\n"
     ]
    }
   ],
   "source": [
    "#3\n",
    "n=int(input(\"Enter number:\"))\n",
    "if n%2==0:\n",
    "    print(n,\" is even number\")\n",
    "else:\n",
    "    print(n,\" is odd number\")"
   ]
  },
  {
   "cell_type": "code",
   "execution_count": 39,
   "id": "2b2f6423-c48b-4608-b679-d526b8d97032",
   "metadata": {},
   "outputs": [
    {
     "name": "stdin",
     "output_type": "stream",
     "text": [
      "Enter 1st number: 98\n",
      "Enter 2nd number: 87\n",
      "Enter 3rd number: 656\n"
     ]
    },
    {
     "name": "stdout",
     "output_type": "stream",
     "text": [
      "656  is the greatest\n"
     ]
    }
   ],
   "source": [
    "#4\n",
    "n1=int(input(\"Enter 1st number:\"))\n",
    "n2=int(input(\"Enter 2nd number:\"))\n",
    "n3=int(input(\"Enter 3rd number:\"))\n",
    "if n1>=n2 and n1>=n3:\n",
    "    print(n1,\" is the greatest\")\n",
    "elif n2>=n3:\n",
    "    print(n2,\" is the greatest\")\n",
    "else:\n",
    "    print(n3,\" is the greatest\")"
   ]
  },
  {
   "cell_type": "code",
   "execution_count": 36,
   "id": "b604add4-2dc5-47b7-a230-d54eae6badde",
   "metadata": {},
   "outputs": [
    {
     "name": "stdin",
     "output_type": "stream",
     "text": [
      "Enter number: 98609\n"
     ]
    },
    {
     "name": "stdout",
     "output_type": "stream",
     "text": [
      "98609  is multiple of 7\n"
     ]
    }
   ],
   "source": [
    "#5\n",
    "n=int(input(\"Enter number:\"))\n",
    "if n%7==0:\n",
    "    print(n,\" is multiple of 7\")\n",
    "else:\n",
    "    print(n,\" is not a multiple of 7\")"
   ]
  },
  {
   "cell_type": "code",
   "execution_count": 45,
   "id": "b6447af2-c10c-4356-a8aa-876ca1e99d60",
   "metadata": {},
   "outputs": [
    {
     "name": "stdin",
     "output_type": "stream",
     "text": [
      "Enter sentence: the fox jumps over the lazy dog\n"
     ]
    },
    {
     "data": {
      "text/plain": [
       "['the', 'fox', 'jumps', 'over', 'the', 'lazy', 'dog']"
      ]
     },
     "execution_count": 45,
     "metadata": {},
     "output_type": "execute_result"
    }
   ],
   "source": [
    "str= input(\"Enter sentence:\")\n",
    "(str.lower().split())"
   ]
  }
 ],
 "metadata": {
  "kernelspec": {
   "display_name": "Python 3 (ipykernel)",
   "language": "python",
   "name": "python3"
  },
  "language_info": {
   "codemirror_mode": {
    "name": "ipython",
    "version": 3
   },
   "file_extension": ".py",
   "mimetype": "text/x-python",
   "name": "python",
   "nbconvert_exporter": "python",
   "pygments_lexer": "ipython3",
   "version": "3.11.3"
  }
 },
 "nbformat": 4,
 "nbformat_minor": 5
}
