{
 "cells": [
  {
   "cell_type": "code",
   "execution_count": 14,
   "id": "e9e1d5e9-1133-456b-b231-05565ad2019a",
   "metadata": {},
   "outputs": [
    {
     "name": "stdout",
     "output_type": "stream",
     "text": [
      "{'name': 'Gul', 'cgpa': 9.6, 'marks': [98, 97, 95]}\n",
      "{'name': 'Gul', 'cgpa': 9.6, 'marks': [98, 97, 95], 'grade': 'A'}\n"
     ]
    }
   ],
   "source": [
    "#dictionary\n",
    "Dict={\n",
    "    \"name\":\"Gul\",\n",
    "    \"cgpa\":9.6,\n",
    "    \"marks\":[98,97,95]\n",
    "}\n",
    "print(Dict)\n",
    "Dict[\"grade\"]=\"A\"\n",
    "print(Dict)"
   ]
  },
  {
   "cell_type": "code",
   "execution_count": 13,
   "id": "a1075828-9eb7-4fa6-9916-b3c128932cf4",
   "metadata": {},
   "outputs": [
    {
     "name": "stdout",
     "output_type": "stream",
     "text": [
      "{'name': 'Gul', 'score': {'chem': 98, 'phy': 97, 'math': 95}}\n",
      "95\n",
      "{'chem': 98, 'phy': 97, 'math': 95}\n"
     ]
    }
   ],
   "source": [
    "student={\n",
    "    \"name\":\"Gul\",\n",
    "    \"score\":{\n",
    "        \"chem\":98,\n",
    "        \"phy\":97,\n",
    "        \"math\":95\n",
    "    }\n",
    "}\n",
    "print(student)\n",
    "print(student[\"score\"][\"math\"])\n",
    "print(student[\"score\"])"
   ]
  },
  {
   "cell_type": "code",
   "execution_count": 17,
   "id": "5a165511-768c-41a9-b564-d3f9bd4fca84",
   "metadata": {},
   "outputs": [
    {
     "name": "stdout",
     "output_type": "stream",
     "text": [
      "dict_keys(['name', 'score'])\n",
      "['name', 'score']\n",
      "2\n"
     ]
    }
   ],
   "source": [
    "print(student.keys())\n",
    "print(list(student.keys()))\n",
    "print(len(student))"
   ]
  },
  {
   "cell_type": "code",
   "execution_count": 18,
   "id": "3d6d1534-8b70-45c6-a2b0-d3ec75dd564b",
   "metadata": {},
   "outputs": [
    {
     "name": "stdout",
     "output_type": "stream",
     "text": [
      "dict_values(['Gul', {'chem': 98, 'phy': 97, 'math': 95}])\n",
      "['Gul', {'chem': 98, 'phy': 97, 'math': 95}]\n"
     ]
    }
   ],
   "source": [
    "print(student.values())\n",
    "print(list(student.values()))"
   ]
  },
  {
   "cell_type": "code",
   "execution_count": 22,
   "id": "61ec4cd3-ac86-4418-967b-08f42e3baf86",
   "metadata": {},
   "outputs": [
    {
     "name": "stdout",
     "output_type": "stream",
     "text": [
      "dict_items([('name', 'Gul'), ('score', {'chem': 98, 'phy': 97, 'math': 95})])\n",
      "[('name', 'Gul'), ('score', {'chem': 98, 'phy': 97, 'math': 95})]\n",
      "('name', 'Gul')\n",
      "('score', {'chem': 98, 'phy': 97, 'math': 95})\n"
     ]
    }
   ],
   "source": [
    "print(student.items())\n",
    "pair=list(student.items())\n",
    "print(pair)\n",
    "print(pair[0])\n",
    "print(pair[1])"
   ]
  },
  {
   "cell_type": "code",
   "execution_count": 24,
   "id": "a0e3d850-9530-4cbb-ba6a-26f053581636",
   "metadata": {},
   "outputs": [
    {
     "name": "stdout",
     "output_type": "stream",
     "text": [
      "Gul\n",
      "Gul\n"
     ]
    }
   ],
   "source": [
    "print(student[\"name\"])\n",
    "print(student.get(\"name\"))\n",
    "#print(student[\"name2\"]) --> o/p-error\n",
    "#print(student.get(\"name2\")) --> o/p-none(no-error)"
   ]
  },
  {
   "cell_type": "code",
   "execution_count": 26,
   "id": "6366ac0a-6fb1-4536-9127-9fe015996215",
   "metadata": {},
   "outputs": [
    {
     "name": "stdout",
     "output_type": "stream",
     "text": [
      "{'name': 'Gul', 'score': {'chem': 98, 'phy': 97, 'math': 95}, 'percentage': 96.66, 'grade': 'A'}\n",
      "{'name': 'alia', 'score': {'chem': 98, 'phy': 97, 'math': 95}, 'percentage': 96.66, 'grade': 'A', 'city': 'pune', 'age': 21}\n"
     ]
    }
   ],
   "source": [
    "stud={\n",
    "    \"name\":\"Gul\",\n",
    "    \"score\":{\n",
    "        \"chem\":98,\n",
    "        \"phy\":97,\n",
    "        \"math\":95\n",
    "    }\n",
    "}\n",
    "new={\n",
    "    \"percentage\":96.66,\n",
    "    \"grade\":\"A\"\n",
    "}\n",
    "stud.update(new)\n",
    "print(stud)\n",
    "stud.update({\"city\":\"pune\",\"age\":21,\"name\":\"alia\"})\n",
    "print(stud)"
   ]
  },
  {
   "cell_type": "code",
   "execution_count": 8,
   "id": "d90032d6-8c97-4954-a5f3-89f3295c491b",
   "metadata": {},
   "outputs": [
    {
     "name": "stdout",
     "output_type": "stream",
     "text": [
      "{'key': 'value', 'name': 'python', 'learning': 'coding', 'age': 21, 'is_adult': True, 'marks': 94.4, 12: 55, 1.11: 'radius', 'subject': ['python', 'C', 'java'], 'topics': ('dict', 'set')}\n",
      "<class 'dict'>\n",
      "python\n",
      "('dict', 'set')\n",
      "['python', 'C', 'java']\n"
     ]
    }
   ],
   "source": [
    "info={\n",
    "    \"key\":\"value\",\n",
    "    \"name\":\"python\",\n",
    "    \"learning\":\"coding\",\n",
    "    \"age\":21,\n",
    "    \"is_adult\":True,\n",
    "    \"marks\":94.4,\n",
    "    12:55,\n",
    "    1.11:\"radius\",\n",
    "    \"subject\":[\"python\",\"C\",\"java\"],\n",
    "    \"topics\":(\"dict\",\"set\")\n",
    "}\n",
    "print(info)\n",
    "print(type(info))\n",
    "print(info[\"name\"])\n",
    "print(info[\"topics\"])\n",
    "print(info[\"subject\"])"
   ]
  },
  {
   "cell_type": "code",
   "execution_count": 9,
   "id": "a9913cba-a361-43e6-959f-bde72828dddb",
   "metadata": {},
   "outputs": [
    {
     "name": "stdout",
     "output_type": "stream",
     "text": [
      "{'key': 'value', 'name': 'gul', 'learning': 'coding', 'age': 21, 'is_adult': True, 'marks': 94.4, 12: 55, 1.11: 'radius', 'subject': ['python', 'C', 'java'], 'topics': ('dict', 'set'), 'surname': 'sayyed'}\n"
     ]
    }
   ],
   "source": [
    "info[\"name\"]=\"gul\"\n",
    "info[\"surname\"]=\"sayyed\"\n",
    "print(info)"
   ]
  },
  {
   "cell_type": "code",
   "execution_count": 10,
   "id": "ba69d489-5f5a-4122-a5c4-15d8ea081ccc",
   "metadata": {},
   "outputs": [
    {
     "name": "stdout",
     "output_type": "stream",
     "text": [
      "{}\n"
     ]
    }
   ],
   "source": [
    "null_dic={}\n",
    "print(null_dic)"
   ]
  },
  {
   "cell_type": "code",
   "execution_count": 29,
   "id": "086c6a97-98eb-4151-9482-fcb6c620e87c",
   "metadata": {},
   "outputs": [
    {
     "name": "stdout",
     "output_type": "stream",
     "text": [
      "{1, 2, 3, 4, 'hello', 'world'}\n",
      "<class 'set'>\n",
      "6\n"
     ]
    }
   ],
   "source": [
    "#set\n",
    "collection={1,2,3,4,\"hello\",\"world\",\"world\"}\n",
    "print(collection)\n",
    "print(type(collection))\n",
    "print(len(collection))"
   ]
  },
  {
   "cell_type": "code",
   "execution_count": 30,
   "id": "228b7d23-4b3e-420f-af34-bf65a6d75cd6",
   "metadata": {},
   "outputs": [
    {
     "name": "stdout",
     "output_type": "stream",
     "text": [
      "<class 'dict'>\n",
      "<class 'set'>\n"
     ]
    }
   ],
   "source": [
    "n={}\n",
    "print(type(n))\n",
    "n=set()\n",
    "print(type(n))"
   ]
  },
  {
   "cell_type": "code",
   "execution_count": 32,
   "id": "1615e1cc-c6f0-432f-a3df-70e9992a8a84",
   "metadata": {},
   "outputs": [
    {
     "name": "stdout",
     "output_type": "stream",
     "text": [
      "{1, 2, (1, 2, 3), 'Gul'}\n",
      "4\n"
     ]
    }
   ],
   "source": [
    "collection=set()\n",
    "collection.add(1)\n",
    "collection.add(2)\n",
    "collection.add(\"Gul\")\n",
    "collection.add((1,2,3))\n",
    "print(collection)\n",
    "print(len(collection))"
   ]
  },
  {
   "cell_type": "code",
   "execution_count": 34,
   "id": "9b8eea29-82b5-42d5-8f66-f6d678cc02d8",
   "metadata": {},
   "outputs": [
    {
     "name": "stdout",
     "output_type": "stream",
     "text": [
      "set()\n",
      "0\n"
     ]
    }
   ],
   "source": [
    "collection.clear()\n",
    "print(collection)\n",
    "print(len(collection))"
   ]
  },
  {
   "cell_type": "code",
   "execution_count": 37,
   "id": "5dd6012b-590b-4591-a367-9788ac2ba7d3",
   "metadata": {},
   "outputs": [
    {
     "name": "stdout",
     "output_type": "stream",
     "text": [
      "code\n",
      "world\n"
     ]
    }
   ],
   "source": [
    "collection={\"hello\",\"world\",\"gul\",\"python\",\"code\"}\n",
    "print(collection.pop())\n",
    "print(collection.pop())"
   ]
  },
  {
   "cell_type": "code",
   "execution_count": 38,
   "id": "d1e87f78-81b0-433d-8b5a-efbd28896b56",
   "metadata": {},
   "outputs": [
    {
     "name": "stdout",
     "output_type": "stream",
     "text": [
      "{1, 2, 3, 4}\n",
      "{2, 3}\n"
     ]
    }
   ],
   "source": [
    "set1={1,2,3}\n",
    "set2={2,3,4}\n",
    "print(set1.union(set2))\n",
    "print(set1.intersection(set2))"
   ]
  },
  {
   "cell_type": "code",
   "execution_count": 40,
   "id": "3bb90209-5830-485e-b499-0b75803b03c9",
   "metadata": {},
   "outputs": [
    {
     "name": "stdout",
     "output_type": "stream",
     "text": [
      "{'table': ['a piece of furniture', 'list of facts and figures'], 'cat': 'a cute animal'}\n"
     ]
    }
   ],
   "source": [
    "#1\n",
    "dictionary={\n",
    "    \"table\":[\"a piece of furniture\",\"list of facts and figures\"],\n",
    "    \"cat\":\"a cute animal\"\n",
    "}\n",
    "print(dictionary)"
   ]
  },
  {
   "cell_type": "code",
   "execution_count": 44,
   "id": "9bd44e7a-e493-44a4-a07f-2ab82b53c676",
   "metadata": {},
   "outputs": [
    {
     "name": "stdout",
     "output_type": "stream",
     "text": [
      "{'javascipt', 'java', 'python', 'C', 'C++'}\n",
      "total classroom 5\n"
     ]
    }
   ],
   "source": [
    "#2\n",
    "subjects={\n",
    "    \"python\",\"java\",\"C++\",\"python\",\"javascipt\",\"java\",\"python\",\n",
    "    \"java\",\"C++\",\"C\"\n",
    "}\n",
    "print(subjects)\n",
    "classroom=len(student)\n",
    "print(\"total classroom\",classroom)"
   ]
  },
  {
   "cell_type": "code",
   "execution_count": 52,
   "id": "8b73381e-5e09-4332-8b46-c2b3757e0863",
   "metadata": {},
   "outputs": [
    {
     "name": "stdin",
     "output_type": "stream",
     "text": [
      "Enter maths marks: 99\n",
      "Enter phy marks: 89\n",
      "Enter che marks: 77\n"
     ]
    },
    {
     "name": "stdout",
     "output_type": "stream",
     "text": [
      "{'maths': 99, 'phy': 89, 'che': 77}\n"
     ]
    }
   ],
   "source": [
    "#3\n",
    "marks={}\n",
    "m1=int(input(\"Enter maths marks:\"))\n",
    "marks.update({\"maths\":m1})\n",
    "m2=int(input(\"Enter phy marks:\"))\n",
    "marks.update({\"phy\":m2})\n",
    "m3=int(input(\"Enter che marks:\"))\n",
    "marks.update({\"che\":m3})\n",
    "print(marks)"
   ]
  },
  {
   "cell_type": "code",
   "execution_count": 54,
   "id": "e3d8dcb2-04f2-468d-856c-a7984603fe31",
   "metadata": {},
   "outputs": [
    {
     "name": "stdout",
     "output_type": "stream",
     "text": [
      "{9, '9.0'}\n",
      "{('int', 9), ('float', 9.0)}\n"
     ]
    }
   ],
   "source": [
    "#4\n",
    "set={9,\"9.0\"}\n",
    "print(set)\n",
    "\n",
    "values={(\"float\",9.0),(\"int\",9)}\n",
    "print(values)"
   ]
  },
  {
   "cell_type": "code",
   "execution_count": null,
   "id": "9f779ca9-3087-4ebe-aae2-5e51b786981e",
   "metadata": {},
   "outputs": [],
   "source": []
  }
 ],
 "metadata": {
  "kernelspec": {
   "display_name": "Python 3 (ipykernel)",
   "language": "python",
   "name": "python3"
  },
  "language_info": {
   "codemirror_mode": {
    "name": "ipython",
    "version": 3
   },
   "file_extension": ".py",
   "mimetype": "text/x-python",
   "name": "python",
   "nbconvert_exporter": "python",
   "pygments_lexer": "ipython3",
   "version": "3.11.3"
  }
 },
 "nbformat": 4,
 "nbformat_minor": 5
}
