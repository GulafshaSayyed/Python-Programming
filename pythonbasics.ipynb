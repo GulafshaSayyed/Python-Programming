{
 "cells": [
  {
   "cell_type": "code",
   "execution_count": 1,
   "id": "93ce17c6-2b7b-4051-9fd4-b66609c792bf",
   "metadata": {},
   "outputs": [
    {
     "name": "stdout",
     "output_type": "stream",
     "text": [
      "hello world\n"
     ]
    }
   ],
   "source": [
    "print(\"hello world\")"
   ]
  },
  {
   "cell_type": "code",
   "execution_count": 5,
   "id": "92fd7670-54b1-4d81-a0d4-f55dc683756b",
   "metadata": {},
   "outputs": [
    {
     "name": "stdin",
     "output_type": "stream",
     "text": [
      "What is your name?\n",
      " gul\n"
     ]
    },
    {
     "name": "stdout",
     "output_type": "stream",
     "text": [
      "Hello gul\n"
     ]
    }
   ],
   "source": [
    "name=input(\"What is your name?\\n\")\n",
    "print(\"Hello \" +name)"
   ]
  },
  {
   "cell_type": "code",
   "execution_count": 9,
   "id": "ad1fe974-12bf-47d1-83a2-80f3a5e57172",
   "metadata": {},
   "outputs": [
    {
     "name": "stdin",
     "output_type": "stream",
     "text": [
      "Enter your age: 19\n"
     ]
    },
    {
     "name": "stdout",
     "output_type": "stream",
     "text": [
      "21\n",
      "21.0\n"
     ]
    }
   ],
   "source": [
    "old_age=int(input(\"Enter your age:\"))\n",
    "new_age=old_age+2\n",
    "print(new_age)\n",
    "print(float(new_age))"
   ]
  },
  {
   "cell_type": "code",
   "execution_count": 12,
   "id": "81133879-e490-40e4-ab9f-6fb48aee89e0",
   "metadata": {},
   "outputs": [
    {
     "name": "stdin",
     "output_type": "stream",
     "text": [
      "Enter n1: 3\n",
      "Enter n2: 4\n"
     ]
    },
    {
     "name": "stdout",
     "output_type": "stream",
     "text": [
      "7\n"
     ]
    }
   ],
   "source": [
    "n1=int(input(\"Enter n1:\"))\n",
    "n2=int(input(\"Enter n2:\"))\n",
    "sum=n1+n2\n",
    "print(sum)"
   ]
  },
  {
   "cell_type": "markdown",
   "id": "187fd10c-8ee5-4714-9c07-19171d2d9541",
   "metadata": {},
   "source": [
    "name=\"Gulafsha Sayyed\")\n",
    "print(name.upper())"
   ]
  },
  {
   "cell_type": "code",
   "execution_count": 4,
   "id": "6c1d6810-13f7-4a5c-98e3-e377ddbea044",
   "metadata": {},
   "outputs": [
    {
     "name": "stdout",
     "output_type": "stream",
     "text": [
      "GULAFSHA SAYYED\n",
      "gulafsha sayyed\n",
      "9\n",
      "5\n",
      "9\n",
      "-1\n",
      "Gulafsha Wonderwomen\n",
      "True\n",
      "False\n"
     ]
    }
   ],
   "source": [
    "#String operation\n",
    "name=\"Gulafsha Sayyed\"\n",
    "print(name.upper())\n",
    "print(name.lower())\n",
    "print(name.find('S'))\n",
    "print(name.find('s'))\n",
    "print(name.find('Sayyed'))\n",
    "print(name.find('sayyed'))\n",
    "print(name.replace(\"Sayyed\",\"Wonderwomen\"))\n",
    "print('G' in name)\n",
    "print('z' in name)"
   ]
  },
  {
   "cell_type": "code",
   "execution_count": 6,
   "id": "28ef0853-c36f-4d5a-9a8d-4572142af255",
   "metadata": {},
   "outputs": [
    {
     "name": "stdout",
     "output_type": "stream",
     "text": [
      "7\n",
      "3\n",
      "10\n",
      "2.5\n",
      "2\n",
      "1\n",
      "25\n"
     ]
    }
   ],
   "source": [
    "#arithematic operation\n",
    "print(5+2)\n",
    "print(5-2)\n",
    "print(5*2)\n",
    "print(5/2)\n",
    "print(5//2)\n",
    "print(5%2)\n",
    "print(5**2)"
   ]
  },
  {
   "cell_type": "code",
   "execution_count": 7,
   "id": "781cbe12-d994-4f29-846f-c3e265bec62d",
   "metadata": {},
   "outputs": [
    {
     "name": "stdout",
     "output_type": "stream",
     "text": [
      "14\n"
     ]
    }
   ],
   "source": [
    "#short cut\n",
    "i=5\n",
    "i=i+2\n",
    "i += 2\n",
    "i -= 2\n",
    "i *= 2\n",
    "print(i)"
   ]
  },
  {
   "cell_type": "code",
   "execution_count": 8,
   "id": "f4e27870-c6a5-4e83-93f3-806df5426d92",
   "metadata": {},
   "outputs": [
    {
     "name": "stdout",
     "output_type": "stream",
     "text": [
      "2.6\n"
     ]
    }
   ],
   "source": [
    "a=2+3/5\n",
    "print(a)"
   ]
  },
  {
   "cell_type": "code",
   "execution_count": 9,
   "id": "527abad5-bf4e-4d1f-9acd-3e1a47168b64",
   "metadata": {},
   "outputs": [
    {
     "name": "stdout",
     "output_type": "stream",
     "text": [
      "True\n",
      "False\n",
      "False\n",
      "True\n",
      "False\n",
      "True\n",
      "True\n"
     ]
    }
   ],
   "source": [
    "#comparison operator\n",
    "print(3>2)\n",
    "print(3<2)\n",
    "print(3<=2)\n",
    "print(3>=2)\n",
    "print(3==2)\n",
    "print(3==3)\n",
    "print(3!=2)"
   ]
  },
  {
   "cell_type": "code",
   "execution_count": 10,
   "id": "2bf9c3c1-344a-4f1e-b9f7-ac7a06e41c15",
   "metadata": {},
   "outputs": [
    {
     "name": "stdout",
     "output_type": "stream",
     "text": [
      "True\n",
      "False\n",
      "True\n",
      "False\n"
     ]
    }
   ],
   "source": [
    "#logical operator\n",
    "print(2>3 or 2>1)\n",
    "print(3>2 and 2>6)\n",
    "print(not 2>3)\n",
    "print(not 3>2)"
   ]
  },
  {
   "cell_type": "code",
   "execution_count": 14,
   "id": "3c21a4c0-7233-443b-a843-4779860d26ff",
   "metadata": {},
   "outputs": [
    {
     "name": "stdin",
     "output_type": "stream",
     "text": [
      "Enter age: 5\n"
     ]
    },
    {
     "name": "stdout",
     "output_type": "stream",
     "text": [
      "you are in school\n",
      "Thank you\n"
     ]
    }
   ],
   "source": [
    "#if-else\n",
    "age=int(input(\"Enter age:\"))\n",
    "if age >= 18:\n",
    "    print(\"You are an adult\")\n",
    "    print(\"you can vote\")\n",
    "elif age < 18 and age >3:\n",
    "    print(\"you are in school\")\n",
    "else:\n",
    "    print(\"yoi are a child\")\n",
    "print(\"Thank you\")"
   ]
  },
  {
   "cell_type": "code",
   "execution_count": 15,
   "id": "9aec2579-a390-435b-8b23-43e284cd9ba7",
   "metadata": {},
   "outputs": [
    {
     "name": "stdin",
     "output_type": "stream",
     "text": [
      "Enter first number: 2\n",
      "Enter operator (+,-,*,/,%): *\n",
      "Enter second number: 2\n"
     ]
    },
    {
     "name": "stdout",
     "output_type": "stream",
     "text": [
      "4\n"
     ]
    }
   ],
   "source": [
    "#calculater[mini project]\n",
    "n1=int(input(\"Enter first number:\"))\n",
    "operator=input(\"Enter operator (+,-,*,/,%):\")\n",
    "n2=int(input(\"Enter second number:\"))\n",
    "\n",
    "if operator == \"+\":\n",
    "    print(n1+n2)\n",
    "elif operator == \"-\":\n",
    "    print(n1-n2)\n",
    "elif operator == \"*\":\n",
    "    print(n1*n2)\n",
    "elif operator == \"/\":\n",
    "    print(n1/n2)\n",
    "elif operator == \"%\":\n",
    "    print(n1%n2)\n",
    "else:\n",
    "    print(\"Invalid operation\")"
   ]
  },
  {
   "cell_type": "code",
   "execution_count": 16,
   "id": "3101b1c9-ccea-44eb-a35d-a53207fcb2c7",
   "metadata": {},
   "outputs": [
    {
     "name": "stdout",
     "output_type": "stream",
     "text": [
      "range(0, 5)\n"
     ]
    }
   ],
   "source": [
    "#range\n",
    "n=range(5)\n",
    "print(n)"
   ]
  },
  {
   "cell_type": "code",
   "execution_count": 21,
   "id": "42dcc112-0638-4a58-877c-04e35d26ae33",
   "metadata": {},
   "outputs": [
    {
     "name": "stdout",
     "output_type": "stream",
     "text": [
      "*\n",
      "**\n",
      "***\n",
      "****\n",
      "*****\n",
      "\n",
      "\n",
      "*****\n",
      "****\n",
      "***\n",
      "**\n",
      "*\n",
      "\n"
     ]
    }
   ],
   "source": [
    "#While loop\n",
    "i=1\n",
    "while i<=5:\n",
    "    print(i*\"*\")\n",
    "    i=i+1\n",
    "print(\"\\n\")\n",
    "i=5\n",
    "while i>=0:\n",
    "    print(i*\"*\")\n",
    "    i=i-1"
   ]
  },
  {
   "cell_type": "code",
   "execution_count": 22,
   "id": "8d468acb-e8da-45dc-9593-36430b3ea992",
   "metadata": {},
   "outputs": [
    {
     "name": "stdout",
     "output_type": "stream",
     "text": [
      "1\n",
      "2\n",
      "3\n",
      "4\n",
      "5\n"
     ]
    }
   ],
   "source": [
    "#for loop\n",
    "for i in range(5):\n",
    "    print(i+1)"
   ]
  },
  {
   "cell_type": "code",
   "execution_count": 35,
   "id": "af64c7ef-cd5b-43ea-a921-db4a757803b3",
   "metadata": {},
   "outputs": [
    {
     "name": "stdout",
     "output_type": "stream",
     "text": [
      "[95, 90, 99]\n",
      "90\n",
      "99\n",
      "[95, 90]\n",
      "[90, 99]\n",
      "\n",
      "\n",
      "95\n",
      "90\n",
      "99\n",
      "[95, 90, 99, 92]\n",
      "[91, 95, 90, 99, 92]\n",
      "True\n",
      "False\n",
      "5\n",
      "\n",
      "\n",
      "91\n",
      "95\n",
      "90\n",
      "99\n",
      "92\n",
      "[]\n"
     ]
    }
   ],
   "source": [
    "#list\n",
    "marks=[95,90,99]\n",
    "print(marks)\n",
    "print(marks[1])\n",
    "print(marks[-1])\n",
    "print(marks[0:2])\n",
    "print(marks[1:3])\n",
    "print(\"\\n\")\n",
    "for score in marks:\n",
    "    print(score)\n",
    "marks.append(92)\n",
    "print(marks)\n",
    "marks.insert(0,91)\n",
    "print(marks)\n",
    "print(99 in marks)\n",
    "print(98 in marks)\n",
    "print(len(marks))\n",
    "\n",
    "print(\"\\n\")\n",
    "i=0\n",
    "while i<len(marks):\n",
    "    print(marks[i])\n",
    "    i=i+1\n",
    "marks.clear()\n",
    "print(marks)"
   ]
  },
  {
   "cell_type": "code",
   "execution_count": 39,
   "id": "97c11ffe-426e-4bb7-826e-22df1a7b5c11",
   "metadata": {},
   "outputs": [
    {
     "name": "stdout",
     "output_type": "stream",
     "text": [
      "alia\n",
      "riya\n",
      "jia\n",
      "\n",
      "\n",
      "alia\n",
      "riya\n",
      "jia\n",
      "sia\n"
     ]
    }
   ],
   "source": [
    "#break and continue\n",
    "students=[\"alia\",\"riya\",\"jia\",\"priya\",\"sia\"]\n",
    "for student in students:\n",
    "    if student == \"priya\":\n",
    "        break\n",
    "    print(student)\n",
    "print(\"\\n\")\n",
    "for student in students:\n",
    "    if student == \"priya\":\n",
    "        continue\n",
    "    print(student)"
   ]
  },
  {
   "cell_type": "code",
   "execution_count": 41,
   "id": "a8c55586-48b6-459d-9c66-f5d8139eaff5",
   "metadata": {},
   "outputs": [
    {
     "name": "stdout",
     "output_type": "stream",
     "text": [
      "3\n",
      "2\n",
      "('riya', 'jia', 'sia')\n"
     ]
    }
   ],
   "source": [
    "#tuple\n",
    "marks=(95,98,97,98,98)\n",
    "print(marks.count(98))\n",
    "print(marks.index(97))\n",
    "person=\"riya\",\"jia\",\"sia\"\n",
    "print(person)"
   ]
  },
  {
   "cell_type": "code",
   "execution_count": 43,
   "id": "70cff981-c584-49e7-9eaf-0c8b651281df",
   "metadata": {},
   "outputs": [
    {
     "name": "stdout",
     "output_type": "stream",
     "text": [
      "{97, 98, 95}\n",
      "97\n",
      "98\n",
      "95\n"
     ]
    }
   ],
   "source": [
    "#set\n",
    "marks={95,98,97,98,98}\n",
    "print(marks)\n",
    "for score in marks:\n",
    "    print(score)"
   ]
  },
  {
   "cell_type": "code",
   "execution_count": 45,
   "id": "37d1a519-62ec-4633-b2e4-7fe3aed4d6f9",
   "metadata": {},
   "outputs": [
    {
     "name": "stdout",
     "output_type": "stream",
     "text": [
      "98\n",
      "{'english': 95, 'chemistry': 98, 'maths': 99, 'physics': 97}\n",
      "{'english': 95, 'chemistry': 98, 'maths': 99, 'physics': 96}\n"
     ]
    }
   ],
   "source": [
    "#dictionary\n",
    "marks={\"english\":95,\"chemistry\":98,\"maths\":99}\n",
    "print(marks[\"chemistry\"])\n",
    "marks[\"physics\"]=97\n",
    "print(marks)\n",
    "marks[\"physics\"]=96\n",
    "print(marks)"
   ]
  },
  {
   "cell_type": "code",
   "execution_count": 46,
   "id": "9f20cbb2-4f32-4631-9dc0-8672223d4c17",
   "metadata": {},
   "outputs": [],
   "source": [
    "#in-build function\n",
    "#int() str() bool() "
   ]
  },
  {
   "cell_type": "code",
   "execution_count": 49,
   "id": "4914d2c1-8ded-4302-b418-4f23e5db6440",
   "metadata": {},
   "outputs": [
    {
     "name": "stdout",
     "output_type": "stream",
     "text": [
      "['__doc__', '__loader__', '__name__', '__package__', '__spec__', 'acos', 'acosh', 'asin', 'asinh', 'atan', 'atan2', 'atanh', 'cbrt', 'ceil', 'comb', 'copysign', 'cos', 'cosh', 'degrees', 'dist', 'e', 'erf', 'erfc', 'exp', 'exp2', 'expm1', 'fabs', 'factorial', 'floor', 'fmod', 'frexp', 'fsum', 'gamma', 'gcd', 'hypot', 'inf', 'isclose', 'isfinite', 'isinf', 'isnan', 'isqrt', 'lcm', 'ldexp', 'lgamma', 'log', 'log10', 'log1p', 'log2', 'modf', 'nan', 'nextafter', 'perm', 'pi', 'pow', 'prod', 'radians', 'remainder', 'sin', 'sinh', 'sqrt', 'tan', 'tanh', 'tau', 'trunc', 'ulp']\n",
      "4.0\n"
     ]
    }
   ],
   "source": [
    "#module function\n",
    "#math module\n",
    "import math\n",
    "print(dir(math))\n",
    "from math import sqrt\n",
    "print(sqrt(16))\n",
    "from math import * #'*'import all math function\n",
    "print(sqrt(16))"
   ]
  },
  {
   "cell_type": "code",
   "execution_count": 53,
   "id": "3e99ec4c-7ed6-41c6-969a-e27ea99a2f6e",
   "metadata": {},
   "outputs": [
    {
     "name": "stdout",
     "output_type": "stream",
     "text": [
      "3\n",
      "5\n"
     ]
    }
   ],
   "source": [
    "#user define function\n",
    "#syntax\n",
    "#def function_name(parameters):\n",
    "    #do something\n",
    "def print_sum(n1,n2):\n",
    "    print(n1+n2)\n",
    "print_sum(1,2)\n",
    "def print_sum(n1,n2=4):\n",
    "    print(n1+n2)\n",
    "print_sum(1)"
   ]
  },
  {
   "cell_type": "code",
   "execution_count": null,
   "id": "ce3d5763-d46a-4cb3-9cba-ca676daabed3",
   "metadata": {},
   "outputs": [],
   "source": []
  }
 ],
 "metadata": {
  "kernelspec": {
   "display_name": "Python 3 (ipykernel)",
   "language": "python",
   "name": "python3"
  },
  "language_info": {
   "codemirror_mode": {
    "name": "ipython",
    "version": 3
   },
   "file_extension": ".py",
   "mimetype": "text/x-python",
   "name": "python",
   "nbconvert_exporter": "python",
   "pygments_lexer": "ipython3",
   "version": "3.11.3"
  }
 },
 "nbformat": 4,
 "nbformat_minor": 5
}
