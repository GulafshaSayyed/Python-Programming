{
 "cells": [
  {
   "cell_type": "code",
   "execution_count": 3,
   "id": "3df4900d-523e-4263-b18e-4dd9ad061353",
   "metadata": {},
   "outputs": [
    {
     "name": "stdout",
     "output_type": "stream",
     "text": [
      "[76, 98, 78, 67, 99]\n",
      "<class 'list'>\n",
      "76\n",
      "78\n",
      "5\n"
     ]
    }
   ],
   "source": [
    "#list\n",
    "marks=[76,98,78,67,99]\n",
    "print(marks)\n",
    "print(type(marks))\n",
    "print(marks[0])\n",
    "print(marks[2])\n",
    "print(len(marks))"
   ]
  },
  {
   "cell_type": "code",
   "execution_count": 4,
   "id": "34ee3038-0112-4792-9f5d-38b47a13d64e",
   "metadata": {},
   "outputs": [
    {
     "name": "stdout",
     "output_type": "stream",
     "text": [
      "None\n",
      "None\n",
      "[1, 2, 3, 4]\n"
     ]
    }
   ],
   "source": [
    "list=[2,1,3]\n",
    "print(list.append(4))\n",
    "print(list.sort())\n",
    "print(list)"
   ]
  },
  {
   "cell_type": "code",
   "execution_count": 5,
   "id": "635a170a-8a95-4182-8a3d-339519c47224",
   "metadata": {},
   "outputs": [
    {
     "name": "stdout",
     "output_type": "stream",
     "text": [
      "['f', 'e', 'd', 'c', 'b', 'a']\n"
     ]
    }
   ],
   "source": [
    "list=['a','d','e','f','c','b']\n",
    "list.sort(reverse=True)\n",
    "print(list)"
   ]
  },
  {
   "cell_type": "code",
   "execution_count": 6,
   "id": "1f8bc8b5-963b-413a-9fcc-f0e124ab74c1",
   "metadata": {},
   "outputs": [
    {
     "name": "stdout",
     "output_type": "stream",
     "text": [
      "['f', 'e', 'd', 'c', 'b', 'gul', 'a']\n"
     ]
    }
   ],
   "source": [
    "list.insert(5,'gul')\n",
    "print(list)"
   ]
  },
  {
   "cell_type": "code",
   "execution_count": 9,
   "id": "78b4fca5-079b-4c20-98f6-f3b311c568b8",
   "metadata": {},
   "outputs": [
    {
     "name": "stdout",
     "output_type": "stream",
     "text": [
      "(2, 1, 3, 1)\n",
      "<class 'tuple'>\n",
      "2\n",
      "3\n"
     ]
    },
    {
     "ename": "TypeError",
     "evalue": "'tuple' object does not support item assignment",
     "output_type": "error",
     "traceback": [
      "\u001b[1;31m---------------------------------------------------------------------------\u001b[0m",
      "\u001b[1;31mTypeError\u001b[0m                                 Traceback (most recent call last)",
      "Cell \u001b[1;32mIn[9], line 7\u001b[0m\n\u001b[0;32m      5\u001b[0m \u001b[38;5;28mprint\u001b[39m(tup[\u001b[38;5;241m0\u001b[39m])\n\u001b[0;32m      6\u001b[0m \u001b[38;5;28mprint\u001b[39m(tup[\u001b[38;5;241m2\u001b[39m])\n\u001b[1;32m----> 7\u001b[0m \u001b[43mtup\u001b[49m\u001b[43m[\u001b[49m\u001b[38;5;241;43m0\u001b[39;49m\u001b[43m]\u001b[49m\u001b[38;5;241m=\u001b[39m\u001b[38;5;241m5\u001b[39m \u001b[38;5;66;03m#not allowed in python\u001b[39;00m\n",
      "\u001b[1;31mTypeError\u001b[0m: 'tuple' object does not support item assignment"
     ]
    }
   ],
   "source": [
    "#tuple\n",
    "tup=(2,1,3,1)\n",
    "print(tup)\n",
    "print(type(tup))\n",
    "print(tup[0])\n",
    "print(tup[2])\n",
    "tup[0]=5 #not allowed in python"
   ]
  },
  {
   "cell_type": "code",
   "execution_count": 15,
   "id": "1dac8dcd-2a53-43f0-822a-c6e27582197c",
   "metadata": {},
   "outputs": [
    {
     "name": "stdout",
     "output_type": "stream",
     "text": [
      "<class 'tuple'>\n"
     ]
    }
   ],
   "source": [
    "a=(1,)\n",
    "print(type(a))"
   ]
  },
  {
   "cell_type": "code",
   "execution_count": 19,
   "id": "6a937e18-1f16-4d1b-879e-4f8fef09c5d4",
   "metadata": {},
   "outputs": [
    {
     "name": "stdin",
     "output_type": "stream",
     "text": [
      "Enter 1st fav movie: spiderman\n",
      "Enter 2nd fav movie: ironman\n",
      "Enter 3rd fav movie: hulk\n"
     ]
    },
    {
     "name": "stdout",
     "output_type": "stream",
     "text": [
      "['spiderman', 'ironman', 'hulk']\n"
     ]
    }
   ],
   "source": [
    "#1\n",
    "m=[]\n",
    "m1=input(\"Enter 1st fav movie:\")\n",
    "m2=input(\"Enter 2nd fav movie:\")\n",
    "m3=input(\"Enter 3rd fav movie:\")\n",
    "m.append(m1)\n",
    "m.append(m2)\n",
    "m.append(m3)\n",
    "print(m)"
   ]
  },
  {
   "cell_type": "code",
   "execution_count": 31,
   "id": "967f51ce-c927-4229-bc5c-fd414163a38c",
   "metadata": {},
   "outputs": [
    {
     "name": "stdout",
     "output_type": "stream",
     "text": [
      "palindrome\n"
     ]
    }
   ],
   "source": [
    "#2\n",
    "l1=[1,2,3,2,1]\n",
    "l2=l1.copy()\n",
    "l2.reverse()\n",
    "if l1==l2:\n",
    "    print(\"palindrome\")\n",
    "else:\n",
    "    print(\"not palindrome\")"
   ]
  },
  {
   "cell_type": "code",
   "execution_count": 41,
   "id": "e825272b-23ba-42ce-bad6-50cbaa0ba285",
   "metadata": {},
   "outputs": [
    {
     "name": "stdout",
     "output_type": "stream",
     "text": [
      "['C', 'D', 'A', 'A', 'B', 'B', 'A']\n"
     ]
    },
    {
     "data": {
      "text/plain": [
       "3"
      ]
     },
     "execution_count": 41,
     "metadata": {},
     "output_type": "execute_result"
    }
   ],
   "source": [
    "#3\n",
    "grade=[\"C\",\"D\",\"A\",\"A\",\"B\",\"B\",\"A\"]\n",
    "tuple(grade)\n",
    "print(grade)\n",
    "grade.count(\"A\")"
   ]
  },
  {
   "cell_type": "code",
   "execution_count": 42,
   "id": "46bc10da-8187-44c8-a615-b1bf59edfe47",
   "metadata": {},
   "outputs": [
    {
     "name": "stdout",
     "output_type": "stream",
     "text": [
      "['A', 'A', 'A', 'B', 'B', 'C', 'D']\n"
     ]
    }
   ],
   "source": [
    "grade.sort()\n",
    "print(grade)"
   ]
  }
 ],
 "metadata": {
  "kernelspec": {
   "display_name": "Python 3 (ipykernel)",
   "language": "python",
   "name": "python3"
  },
  "language_info": {
   "codemirror_mode": {
    "name": "ipython",
    "version": 3
   },
   "file_extension": ".py",
   "mimetype": "text/x-python",
   "name": "python",
   "nbconvert_exporter": "python",
   "pygments_lexer": "ipython3",
   "version": "3.11.3"
  }
 },
 "nbformat": 4,
 "nbformat_minor": 5
}
