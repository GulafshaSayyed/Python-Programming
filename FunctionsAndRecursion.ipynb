{
 "cells": [
  {
   "cell_type": "code",
   "execution_count": 5,
   "id": "85d8b767-c012-4f76-b69d-9d8a12a35943",
   "metadata": {},
   "outputs": [
    {
     "data": {
      "text/plain": [
       "5"
      ]
     },
     "execution_count": 5,
     "metadata": {},
     "output_type": "execute_result"
    }
   ],
   "source": [
    "#function definition\n",
    "def sum(a,b):   #parameters             #used to reduce redundency\n",
    "    return a+b\n",
    "sum(2,3)    #function call; argument"
   ]
  },
  {
   "cell_type": "code",
   "execution_count": 6,
   "id": "2ee7470b-7b6d-4131-b57b-19fe3fd31afd",
   "metadata": {},
   "outputs": [
    {
     "name": "stdout",
     "output_type": "stream",
     "text": [
      "hello\n"
     ]
    }
   ],
   "source": [
    "def print_hello(): #parameter are optional\n",
    "    print(\"hello\")\n",
    "print_hello()"
   ]
  },
  {
   "cell_type": "code",
   "execution_count": 8,
   "id": "638feb95-8f0d-4bd3-9f48-937383e71bc7",
   "metadata": {},
   "outputs": [
    {
     "name": "stdout",
     "output_type": "stream",
     "text": [
      "hello\n",
      "None\n"
     ]
    }
   ],
   "source": [
    "output=print_hello()\n",
    "print(output)#because the funt is not returns so the o/p is none "
   ]
  },
  {
   "cell_type": "code",
   "execution_count": 11,
   "id": "15a26603-c1ec-43dc-ae7b-870fa08d7104",
   "metadata": {},
   "outputs": [
    {
     "data": {
      "text/plain": [
       "4.0"
      ]
     },
     "execution_count": 11,
     "metadata": {},
     "output_type": "execute_result"
    }
   ],
   "source": [
    "#average of three number\n",
    "def avg_value(a,b,c):\n",
    "    avg=(a+b+c)/3\n",
    "    return avg\n",
    "avg_value(2,4,6)"
   ]
  },
  {
   "cell_type": "code",
   "execution_count": 17,
   "id": "12d4ab01-394f-4c4a-acb5-1573b25b37ee",
   "metadata": {},
   "outputs": [
    {
     "data": {
      "text/plain": [
       "10"
      ]
     },
     "execution_count": 17,
     "metadata": {},
     "output_type": "execute_result"
    }
   ],
   "source": [
    "#default parameter\n",
    "def prod(a,b=5):\n",
    "    return a*b\n",
    "prod(2)"
   ]
  },
  {
   "cell_type": "code",
   "execution_count": 20,
   "id": "6128171f-ced7-4310-a775-93984c358b13",
   "metadata": {},
   "outputs": [
    {
     "data": {
      "text/plain": [
       "6"
      ]
     },
     "execution_count": 20,
     "metadata": {},
     "output_type": "execute_result"
    }
   ],
   "source": [
    "#1\n",
    "cities=[\"pune\",\"mumbai\",\"goa\",\"banglore\",\"delhi\",\"hyderabad\"]\n",
    "def print_len(list):\n",
    "    return len(list)\n",
    "print_len(cities)"
   ]
  },
  {
   "cell_type": "code",
   "execution_count": 33,
   "id": "840a18d5-4e34-4d66-b3e6-9ddbd3b876ef",
   "metadata": {},
   "outputs": [
    {
     "name": "stdout",
     "output_type": "stream",
     "text": [
      "pune mumbai goa banglore delhi hyderabad "
     ]
    }
   ],
   "source": [
    "#2\n",
    "cities=[\"pune\",\"mumbai\",\"goa\",\"banglore\",\"delhi\",\"hyderabad\"]\n",
    "def ele_list(list):\n",
    "    for i in list:\n",
    "        print(i,end=\" \")\n",
    "ele_list(cities)"
   ]
  },
  {
   "cell_type": "code",
   "execution_count": 30,
   "id": "95b6be49-d58e-4a13-ba20-b39040e1ca58",
   "metadata": {},
   "outputs": [
    {
     "data": {
      "text/plain": [
       "120"
      ]
     },
     "execution_count": 30,
     "metadata": {},
     "output_type": "execute_result"
    }
   ],
   "source": [
    "#3\n",
    "def factorial(n):\n",
    "    fact=1\n",
    "    for i in range(1,n+1):\n",
    "        fact=fact*i\n",
    "        i+=1\n",
    "    return fact\n",
    "factorial(5)"
   ]
  },
  {
   "cell_type": "code",
   "execution_count": 35,
   "id": "562391a1-c31e-4a12-836f-9e86b54bc690",
   "metadata": {},
   "outputs": [
    {
     "name": "stdout",
     "output_type": "stream",
     "text": [
      "USD: 5 \n",
      "INR: 421.85\n"
     ]
    }
   ],
   "source": [
    "#4\n",
    "def usd_to_inr(usd):\n",
    "    inr=usd*84.37\n",
    "    print(\"USD:\",usd,\"\\nINR:\",inr)\n",
    "usd_to_inr(5)"
   ]
  },
  {
   "cell_type": "code",
   "execution_count": 39,
   "id": "e00320d0-1ff9-4ee4-b4a3-4d9dd15e9171",
   "metadata": {},
   "outputs": [
    {
     "name": "stdin",
     "output_type": "stream",
     "text": [
      "Enter number: 657\n"
     ]
    },
    {
     "data": {
      "text/plain": [
       "'ODD'"
      ]
     },
     "execution_count": 39,
     "metadata": {},
     "output_type": "execute_result"
    }
   ],
   "source": [
    "def odd_even(n):\n",
    "    if n%2 ==0:\n",
    "        return \"EVEN\"\n",
    "    else:\n",
    "        return \"ODD\"\n",
    "num=int(input(\"Enter number:\"))\n",
    "odd_even(num)"
   ]
  },
  {
   "cell_type": "code",
   "execution_count": 43,
   "id": "41ab31de-1fdf-4088-9323-8a509b05fb74",
   "metadata": {},
   "outputs": [
    {
     "name": "stdout",
     "output_type": "stream",
     "text": [
      "5\n",
      "4\n",
      "3\n",
      "2\n",
      "1\n"
     ]
    }
   ],
   "source": [
    "#recursion \n",
    "def show(n): #use call stack rule\n",
    "    if(n==0):\n",
    "        return\n",
    "    print(n)\n",
    "    show(n-1)\n",
    "show(5)"
   ]
  },
  {
   "cell_type": "code",
   "execution_count": 49,
   "id": "2ddb106a-2ff1-4842-8780-4f432a099919",
   "metadata": {},
   "outputs": [
    {
     "data": {
      "text/plain": [
       "2432902008176640000"
      ]
     },
     "execution_count": 49,
     "metadata": {},
     "output_type": "execute_result"
    }
   ],
   "source": [
    "#return n!\n",
    "def fact(n): #n!=(n-1)!*n-->Recurrence relation\n",
    "    if(n==0):\n",
    "        return 1\n",
    "    else:\n",
    "        return n*fact(n-1)\n",
    "fact(20)"
   ]
  },
  {
   "cell_type": "code",
   "execution_count": 59,
   "id": "1c565bd3-3464-41a6-a5b7-8bf38c6695c6",
   "metadata": {},
   "outputs": [
    {
     "data": {
      "text/plain": [
       "15"
      ]
     },
     "execution_count": 59,
     "metadata": {},
     "output_type": "execute_result"
    }
   ],
   "source": [
    "#5\n",
    "def nat(n):\n",
    "    if(n==0):\n",
    "        return 0 \n",
    "    else:\n",
    "        return n+nat(n-1) \n",
    "nat(5)"
   ]
  },
  {
   "cell_type": "code",
   "execution_count": 65,
   "id": "7b14dd0e-eeb0-4f3b-8cf5-86695792e84d",
   "metadata": {},
   "outputs": [
    {
     "name": "stdout",
     "output_type": "stream",
     "text": [
      "pune\n",
      "mumbai\n",
      "goa\n",
      "banglore\n",
      "delhi\n",
      "hyderabad\n"
     ]
    }
   ],
   "source": [
    "#6\n",
    "cities=[\"pune\",\"mumbai\",\"goa\",\"banglore\",\"delhi\",\"hyderabad\"]\n",
    "def ele_list(list,idx=0):\n",
    "    if idx==len(list):\n",
    "        return list[0]\n",
    "    print(list[idx])\n",
    "    ele_list(list,idx+1)\n",
    "ele_list(cities)"
   ]
  },
  {
   "cell_type": "code",
   "execution_count": null,
   "id": "0e93c020-058e-4357-a0b9-d61f56aad5b4",
   "metadata": {},
   "outputs": [],
   "source": []
  }
 ],
 "metadata": {
  "kernelspec": {
   "display_name": "Python 3 (ipykernel)",
   "language": "python",
   "name": "python3"
  },
  "language_info": {
   "codemirror_mode": {
    "name": "ipython",
    "version": 3
   },
   "file_extension": ".py",
   "mimetype": "text/x-python",
   "name": "python",
   "nbconvert_exporter": "python",
   "pygments_lexer": "ipython3",
   "version": "3.11.3"
  }
 },
 "nbformat": 4,
 "nbformat_minor": 5
}
