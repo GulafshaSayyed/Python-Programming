{
 "cells": [
  {
   "cell_type": "code",
   "execution_count": 8,
   "id": "0330111a-6fc8-48cb-9194-6110156f0f41",
   "metadata": {},
   "outputs": [
    {
     "name": "stdin",
     "output_type": "stream",
     "text": [
      "enter sentence: the quick brown fox jumps over the lazy dog\n"
     ]
    },
    {
     "name": "stdout",
     "output_type": "stream",
     "text": [
      "{'the': 2, 'quick': 1, 'brown': 1, 'fox': 1, 'jumps': 1, 'over': 1, 'lazy': 1, 'dog': 1}\n"
     ]
    }
   ],
   "source": [
    "#1\n",
    "sentence=input(\"enter sentence:\")\n",
    "word=sentence.lower().split()\n",
    "count={}\n",
    "for i in word:\n",
    "    if i in count:\n",
    "        count[i]=count[i]+1\n",
    "    else:\n",
    "        count[i]=1\n",
    "print(count)       "
   ]
  },
  {
   "cell_type": "code",
   "execution_count": 15,
   "id": "5c7aa563-1b7e-477c-a71a-2e7db3f59f52",
   "metadata": {},
   "outputs": [
    {
     "name": "stdout",
     "output_type": "stream",
     "text": [
      "1333800\n"
     ]
    }
   ],
   "source": [
    "#2\n",
    "my_dict={'data1':100,'data2':54,'data3':247}\n",
    "n=my_dict.values()\n",
    "result=1\n",
    "for i in n:\n",
    "    result=result*i\n",
    "print(result)"
   ]
  },
  {
   "cell_type": "code",
   "execution_count": 18,
   "id": "2b852f83-0207-424f-96dd-b72ba1ddab0d",
   "metadata": {},
   "outputs": [
    {
     "name": "stdout",
     "output_type": "stream",
     "text": [
      "[3, 5, 7]\n"
     ]
    }
   ],
   "source": [
    "#3\n",
    "tup=[(1,2),(2,3),(3,4)]\n",
    "tup_sum=[]\n",
    "for i in tup:\n",
    "    tup_sum.append(sum(i))\n",
    "print(tup_sum)"
   ]
  },
  {
   "cell_type": "code",
   "execution_count": 24,
   "id": "889892c1-caba-4d1f-99f8-091219f0adc2",
   "metadata": {},
   "outputs": [
    {
     "name": "stdout",
     "output_type": "stream",
     "text": [
      "['Green', 'White']\n"
     ]
    }
   ],
   "source": [
    "#4\n",
    "list1=[\"Red\",\"Green\",\"Orange\",\"White\"]\n",
    "list2=[\"Black\",\"Green\",\"White\",\"Pink\"]\n",
    "set1=set(list1)\n",
    "set2=set(list2)\n",
    "common=list(set1.intersection(set2))\n",
    "print(common)"
   ]
  }
 ],
 "metadata": {
  "kernelspec": {
   "display_name": "Python 3 (ipykernel)",
   "language": "python",
   "name": "python3"
  },
  "language_info": {
   "codemirror_mode": {
    "name": "ipython",
    "version": 3
   },
   "file_extension": ".py",
   "mimetype": "text/x-python",
   "name": "python",
   "nbconvert_exporter": "python",
   "pygments_lexer": "ipython3",
   "version": "3.11.3"
  }
 },
 "nbformat": 4,
 "nbformat_minor": 5
}
