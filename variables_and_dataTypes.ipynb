{
 "cells": [
  {
   "cell_type": "code",
   "execution_count": 1,
   "id": "d43c55c8-9369-4709-a1ed-b0fa7e2d0e21",
   "metadata": {},
   "outputs": [
    {
     "name": "stdout",
     "output_type": "stream",
     "text": [
      "Hello world\n"
     ]
    }
   ],
   "source": [
    "print(\"Hello world\")"
   ]
  },
  {
   "cell_type": "code",
   "execution_count": 2,
   "id": "cfd27dfa-08c6-43cc-9475-e13498308aa5",
   "metadata": {},
   "outputs": [
    {
     "name": "stdout",
     "output_type": "stream",
     "text": [
      "<class 'str'>\n",
      "<class 'int'>\n",
      "<class 'float'>\n"
     ]
    }
   ],
   "source": [
    "name=\"Gul\"\n",
    "age=21\n",
    "price=22.22\n",
    "print(type(name))\n",
    "print(type(age))\n",
    "print(type(price))"
   ]
  },
  {
   "cell_type": "code",
   "execution_count": 3,
   "id": "604bcfeb-e57f-4282-9c8e-5217e3c296ce",
   "metadata": {},
   "outputs": [
    {
     "name": "stdout",
     "output_type": "stream",
     "text": [
      "5\n"
     ]
    }
   ],
   "source": [
    "a=2\n",
    "b=3\n",
    "sum=a+b\n",
    "print(sum)"
   ]
  },
  {
   "cell_type": "code",
   "execution_count": null,
   "id": "e28a0969-07ad-4e77-be35-14e72dce80a8",
   "metadata": {},
   "outputs": [],
   "source": [
    "#single line\n",
    "\"\"\" \n",
    "multi line\n",
    "\"\"\" "
   ]
  },
  {
   "cell_type": "code",
   "execution_count": 4,
   "id": "d655fed6-9b26-4ef9-8146-f9a22401950e",
   "metadata": {},
   "outputs": [
    {
     "name": "stdout",
     "output_type": "stream",
     "text": [
      "7\n",
      "3\n",
      "10\n",
      "2.5\n",
      "1\n",
      "25\n"
     ]
    }
   ],
   "source": [
    "#arrithematic operators\n",
    "a=5\n",
    "b=2\n",
    "print(a+b)\n",
    "print(a-b)\n",
    "print(a*b)\n",
    "print(a/b)\n",
    "print(a%b)\n",
    "print(a**b)"
   ]
  },
  {
   "cell_type": "code",
   "execution_count": 5,
   "id": "d452eeb8-9176-4987-b841-cfa707a0a407",
   "metadata": {},
   "outputs": [
    {
     "name": "stdout",
     "output_type": "stream",
     "text": [
      "False\n",
      "True\n",
      "True\n",
      "True\n",
      "False\n",
      "False\n"
     ]
    }
   ],
   "source": [
    "#relational operators\n",
    "a=50\n",
    "b=20\n",
    "print(a==b)\n",
    "print(a!=b)\n",
    "print(a>=b)\n",
    "print(a>b)\n",
    "print(a<=b)\n",
    "print(a<b)"
   ]
  },
  {
   "cell_type": "code",
   "execution_count": 7,
   "id": "897b17b9-b5f6-41cd-b6cb-7d2fd9b3c062",
   "metadata": {},
   "outputs": [
    {
     "name": "stdout",
     "output_type": "stream",
     "text": [
      "20\n"
     ]
    }
   ],
   "source": [
    "#assignment operators\n",
    "n=10\n",
    "n+=10\n",
    "print(n)"
   ]
  },
  {
   "cell_type": "code",
   "execution_count": 8,
   "id": "92085bb9-dbba-406d-9ea0-1783eb24885b",
   "metadata": {},
   "outputs": [
    {
     "name": "stdout",
     "output_type": "stream",
     "text": [
      "0\n"
     ]
    }
   ],
   "source": [
    "n=0\n",
    "n-=10\n",
    "print(n)"
   ]
  },
  {
   "cell_type": "code",
   "execution_count": 13,
   "id": "ef6a25a3-c3fb-459f-99be-169b9bcb5d9f",
   "metadata": {},
   "outputs": [
    {
     "name": "stdout",
     "output_type": "stream",
     "text": [
      "50\n"
     ]
    }
   ],
   "source": [
    "n=10\n",
    "n*=5\n",
    "print(n)"
   ]
  },
  {
   "cell_type": "code",
   "execution_count": 14,
   "id": "a668abf2-0dd8-4958-97c5-56ef3a067a99",
   "metadata": {},
   "outputs": [
    {
     "name": "stdout",
     "output_type": "stream",
     "text": [
      "2.0\n"
     ]
    }
   ],
   "source": [
    "n=10\n",
    "n/=5\n",
    "print(n)"
   ]
  },
  {
   "cell_type": "code",
   "execution_count": 15,
   "id": "2659844a-6faa-464a-aa54-5030cb61e806",
   "metadata": {},
   "outputs": [
    {
     "name": "stdout",
     "output_type": "stream",
     "text": [
      "0\n"
     ]
    }
   ],
   "source": [
    "n=10\n",
    "n%=5\n",
    "print(n)"
   ]
  },
  {
   "cell_type": "code",
   "execution_count": 16,
   "id": "8ee0fb5d-4a25-4a4a-96c4-3305b3a98b13",
   "metadata": {},
   "outputs": [
    {
     "name": "stdout",
     "output_type": "stream",
     "text": [
      "100000\n"
     ]
    }
   ],
   "source": [
    "n=10\n",
    "n**=5\n",
    "print(n)"
   ]
  },
  {
   "cell_type": "code",
   "execution_count": 23,
   "id": "5014b4ea-9949-4afa-b98c-a53552a0439a",
   "metadata": {},
   "outputs": [
    {
     "name": "stdout",
     "output_type": "stream",
     "text": [
      "1 True\n",
      "2 False\n",
      "3 True\n",
      "4 False\n",
      "5 False\n",
      "6 True\n",
      "7 False\n",
      "8 True\n",
      "9 True\n",
      "10 False\n"
     ]
    }
   ],
   "source": [
    "#logical operators\n",
    "a=50\n",
    "b=30\n",
    "print(\"1\",not False)\n",
    "print(\"2\",not (a>b))\n",
    "print(\"3\",(a==b)or(a>b))\n",
    "print(\"4\",(a==b)and(a>b))\n",
    "v1=True\n",
    "v2=False\n",
    "print(\"5\",v1 and v2)\n",
    "v3=True\n",
    "v4=True\n",
    "print(\"6\",v3 and v4)\n",
    "v5=False\n",
    "v6=False\n",
    "print(\"7\",v5 and v6)\n",
    "print(\"8\",v1 or v2)\n",
    "print(\"9\",v3 or v4)\n",
    "print(\"10\",v5 or v6)"
   ]
  },
  {
   "cell_type": "code",
   "execution_count": 28,
   "id": "043d85f8-069d-42be-907a-c39990fa33f7",
   "metadata": {},
   "outputs": [
    {
     "name": "stdout",
     "output_type": "stream",
     "text": [
      "6.24\n"
     ]
    }
   ],
   "source": [
    "#type conversion\n",
    "a=2\n",
    "b=4.24\n",
    "sum=a+b\n",
    "print(sum)"
   ]
  },
  {
   "cell_type": "code",
   "execution_count": 30,
   "id": "4360c3f7-fe98-4844-9f04-8deba716e525",
   "metadata": {},
   "outputs": [
    {
     "name": "stdout",
     "output_type": "stream",
     "text": [
      "6.24\n"
     ]
    }
   ],
   "source": [
    "#type casting\n",
    "a=\"2\"\n",
    "b=4.24\n",
    "c=int(a)\n",
    "sum=c+b\n",
    "print(sum)"
   ]
  },
  {
   "cell_type": "code",
   "execution_count": null,
   "id": "34fa8ca5-56ca-45f4-82f7-904194bf57b7",
   "metadata": {},
   "outputs": [],
   "source": [
    "#int(input()) "
   ]
  },
  {
   "cell_type": "code",
   "execution_count": 31,
   "id": "425af10e-bbf6-4c7a-8630-25d22b6269e4",
   "metadata": {},
   "outputs": [
    {
     "name": "stdin",
     "output_type": "stream",
     "text": [
      "Enter 1st number: 5\n",
      "Enter 2st number: 6\n"
     ]
    },
    {
     "name": "stdout",
     "output_type": "stream",
     "text": [
      "Sum= 11\n"
     ]
    }
   ],
   "source": [
    "#1\n",
    "n1=int(input(\"Enter 1st number:\"))\n",
    "n2=int(input(\"Enter 2st number:\"))\n",
    "print(\"Sum=\",n1+n2)"
   ]
  },
  {
   "cell_type": "code",
   "execution_count": 33,
   "id": "cf58813a-2413-4e7f-b46c-6b3e62c4b384",
   "metadata": {},
   "outputs": [
    {
     "name": "stdin",
     "output_type": "stream",
     "text": [
      "Enter side of a square: 10\n"
     ]
    },
    {
     "name": "stdout",
     "output_type": "stream",
     "text": [
      "Area of square = 100\n"
     ]
    }
   ],
   "source": [
    "#2\n",
    "a=int(input(\"Enter side of a square:\"))\n",
    "print(\"Area of square =\",a**2)"
   ]
  },
  {
   "cell_type": "code",
   "execution_count": 36,
   "id": "5dcb277c-f70e-4bb7-b0ee-81f23dcb88ec",
   "metadata": {},
   "outputs": [
    {
     "name": "stdin",
     "output_type": "stream",
     "text": [
      "Enter 1st number: 5.5\n",
      "Enter 2st number: 9.12\n"
     ]
    },
    {
     "name": "stdout",
     "output_type": "stream",
     "text": [
      "Average= 7.31\n"
     ]
    }
   ],
   "source": [
    "n1=float(input(\"Enter 1st number:\"))\n",
    "n2=float(input(\"Enter 2st number:\"))\n",
    "print(\"Average=\",(n1+n2)/2)"
   ]
  },
  {
   "cell_type": "code",
   "execution_count": 37,
   "id": "766d84d7-8588-4d7c-92c7-61d7696037e6",
   "metadata": {},
   "outputs": [
    {
     "name": "stdin",
     "output_type": "stream",
     "text": [
      "Enter 1st number: 12\n",
      "Enter 2st number: 1\n"
     ]
    },
    {
     "name": "stdout",
     "output_type": "stream",
     "text": [
      "True\n"
     ]
    }
   ],
   "source": [
    "n1=int(input(\"Enter 1st number:\"))\n",
    "n2=int(input(\"Enter 2st number:\"))\n",
    "print(n1>=n2)"
   ]
  }
 ],
 "metadata": {
  "kernelspec": {
   "display_name": "Python 3 (ipykernel)",
   "language": "python",
   "name": "python3"
  },
  "language_info": {
   "codemirror_mode": {
    "name": "ipython",
    "version": 3
   },
   "file_extension": ".py",
   "mimetype": "text/x-python",
   "name": "python",
   "nbconvert_exporter": "python",
   "pygments_lexer": "ipython3",
   "version": "3.11.3"
  }
 },
 "nbformat": 4,
 "nbformat_minor": 5
}
