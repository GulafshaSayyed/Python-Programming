{
 "cells": [
  {
   "cell_type": "code",
   "execution_count": 6,
   "id": "4e5bbaaf-c9c6-453b-8c57-989af51ee65e",
   "metadata": {},
   "outputs": [
    {
     "name": "stdout",
     "output_type": "stream",
     "text": [
      "I am learning python \n",
      "programming language\n",
      "<class 'str'>\n"
     ]
    }
   ],
   "source": [
    "#read file\n",
    "f=open(\"demo.txt\",\"r\")\n",
    "data=f.read()\n",
    "print(data)\n",
    "print(type(data))\n",
    "f.close()"
   ]
  },
  {
   "cell_type": "code",
   "execution_count": 8,
   "id": "55a041b9-59f5-45b5-86de-1da1919362bc",
   "metadata": {},
   "outputs": [
    {
     "name": "stdout",
     "output_type": "stream",
     "text": [
      "I am \n"
     ]
    }
   ],
   "source": [
    "f=open(\"demo.txt\",\"r\")\n",
    "data=f.read(5)\n",
    "print(data)\n",
    "f.close()"
   ]
  },
  {
   "cell_type": "code",
   "execution_count": 12,
   "id": "d24d3b69-37ab-4e4d-85f8-49f9d6ea6a2e",
   "metadata": {},
   "outputs": [
    {
     "name": "stdout",
     "output_type": "stream",
     "text": [
      "I am learning python \n",
      "\n",
      "programming language\n",
      "\n"
     ]
    }
   ],
   "source": [
    "f=open(\"demo.txt\",\"r\")\n",
    "line1=f.readline()\n",
    "print(line1)\n",
    "line2=f.readline()\n",
    "print(line2)\n",
    "line3=f.readline()\n",
    "print(line3)\n",
    "f.close()"
   ]
  },
  {
   "cell_type": "code",
   "execution_count": null,
   "id": "d56f9e2f-603c-4107-bb2b-44f7e60203c8",
   "metadata": {},
   "outputs": [],
   "source": []
  },
  {
   "cell_type": "code",
   "execution_count": 11,
   "id": "356a7b48-158e-431c-a3a2-64f0f3d0c01c",
   "metadata": {},
   "outputs": [
    {
     "name": "stdout",
     "output_type": "stream",
     "text": [
      "I am learning python \n",
      "programming language\n",
      "\n",
      "\n"
     ]
    }
   ],
   "source": [
    "f=open(\"demo.txt\",\"r\")\n",
    "data=f.read()\n",
    "print(data)\n",
    "line1=f.readline()\n",
    "print(line1)\n",
    "line2=f.readline()\n",
    "print(line2)\n",
    "f.close()"
   ]
  },
  {
   "cell_type": "code",
   "execution_count": 29,
   "id": "9d22ee2d-5e9e-453d-98b3-bba588397012",
   "metadata": {},
   "outputs": [],
   "source": [
    "f=open(\"demo.txt\",\"w\")\n",
    "f.write(\"I want to learn in peacefull atmosphere.12345\")\n",
    "f.close()"
   ]
  },
  {
   "cell_type": "code",
   "execution_count": 30,
   "id": "909b91ed-3f0a-4e5c-a0e5-ce0d2417608c",
   "metadata": {},
   "outputs": [],
   "source": [
    "f=open(\"demo.txt\",\"a\")\n",
    "f.write(\"\\nThen i will understand concept fast\")\n",
    "f.close()"
   ]
  },
  {
   "cell_type": "code",
   "execution_count": 31,
   "id": "74d87fe7-44c9-48d6-b48d-199b1dba4372",
   "metadata": {},
   "outputs": [],
   "source": [
    "f=open(\"sample.txt\",\"w\")\n",
    "f.close()"
   ]
  },
  {
   "cell_type": "code",
   "execution_count": 32,
   "id": "55ccac0a-1a54-4c60-b758-3a0e356d6b42",
   "metadata": {},
   "outputs": [],
   "source": [
    "f=open(\"sample1.txt\",\"a\")\n",
    "f.close()"
   ]
  },
  {
   "cell_type": "code",
   "execution_count": 33,
   "id": "e9bf670b-73dc-4e45-9339-5e1e56d3569c",
   "metadata": {},
   "outputs": [
    {
     "name": "stdout",
     "output_type": "stream",
     "text": [
      "ant to learn in peacefull atmosphere.12345\n",
      "Then i will understand concept fast\n"
     ]
    }
   ],
   "source": [
    "f=open(\"demo.txt\",\"r+\") #read+ overwrite(ptr start) no truncate\n",
    "f.write(\"abc\")\n",
    "print(f.read())\n",
    "f.close()"
   ]
  },
  {
   "cell_type": "code",
   "execution_count": 34,
   "id": "c9803f29-4c8f-4e5e-ba5f-fca2d5511ad2",
   "metadata": {},
   "outputs": [
    {
     "name": "stdout",
     "output_type": "stream",
     "text": [
      "\n"
     ]
    }
   ],
   "source": [
    "f=open(\"demo.txt\",\"w+\") #read+ overwrite truncate\n",
    "print(f.read())\n",
    "f.write(\"xyz\")\n",
    "f.close()"
   ]
  },
  {
   "cell_type": "code",
   "execution_count": 35,
   "id": "1dc1249f-955c-475b-b532-090d10039f85",
   "metadata": {},
   "outputs": [
    {
     "name": "stdout",
     "output_type": "stream",
     "text": [
      "\n"
     ]
    }
   ],
   "source": [
    "f=open(\"demo.txt\",\"a+\") #read+ append(ptr end) no truncate\n",
    "print(f.read())\n",
    "f.write(\"abc\")\n",
    "f.close()"
   ]
  },
  {
   "cell_type": "code",
   "execution_count": 36,
   "id": "9090936b-5f67-4995-8484-4c5e2a90f0da",
   "metadata": {},
   "outputs": [
    {
     "name": "stdout",
     "output_type": "stream",
     "text": [
      "xyzabc\n"
     ]
    }
   ],
   "source": [
    "with open(\"demo.txt\",\"r\") as f:\n",
    "    data=f.read()\n",
    "    print(data)"
   ]
  },
  {
   "cell_type": "code",
   "execution_count": 37,
   "id": "0ee7cac1-187a-422e-a663-477b8095f74f",
   "metadata": {},
   "outputs": [],
   "source": [
    "with open(\"demo.txt\",\"w\") as f:\n",
    "    f.write(\"new data\")"
   ]
  },
  {
   "cell_type": "code",
   "execution_count": 41,
   "id": "5a786446-3442-4446-bbd4-d366bcf5a55a",
   "metadata": {},
   "outputs": [],
   "source": [
    "import os\n",
    "os.remove(\"sample.txt\")"
   ]
  },
  {
   "cell_type": "code",
   "execution_count": 46,
   "id": "b2adc198-e938-427e-aa32-ea06e0eb9f6f",
   "metadata": {},
   "outputs": [],
   "source": [
    "#1\n",
    "with open(\"practice.txt\",\"w\") as f:\n",
    "    f.write(\"Hi everyone\\nwe are learning File I/O\\n\")\n",
    "    f.write(\"using Java\\nI like programming in Java.\")"
   ]
  },
  {
   "cell_type": "code",
   "execution_count": 54,
   "id": "a6ee2989-5715-473d-b877-59603525f66f",
   "metadata": {},
   "outputs": [
    {
     "name": "stdout",
     "output_type": "stream",
     "text": [
      "Hi everyone\n",
      "we are learning File I/O\n",
      "using Python\n",
      "I like programming in Python.\n"
     ]
    }
   ],
   "source": [
    "#2\n",
    "def replace():\n",
    "    with open(\"practice.txt\",\"r\") as f:\n",
    "         data=f.read()\n",
    "         new_data=data.replace(\"Java\",\"Python\")\n",
    "         print(new_data)\n",
    "replace()"
   ]
  },
  {
   "cell_type": "code",
   "execution_count": 55,
   "id": "2436327f-be8c-4cf2-83ce-31be02af5c64",
   "metadata": {},
   "outputs": [
    {
     "name": "stdout",
     "output_type": "stream",
     "text": [
      "Found\n"
     ]
    }
   ],
   "source": [
    "#3\n",
    "def check_for_word():\n",
    "    with open(\"practice.txt\",\"r\") as f:\n",
    "        word=\"learning\"\n",
    "        data=f.read()\n",
    "        if(data.find(word) != -1): #can also write word in data\n",
    "            print(\"Found\")\n",
    "        else:\n",
    "            print(\"Not Found\")    \n",
    "check_for_word()"
   ]
  },
  {
   "cell_type": "code",
   "execution_count": 60,
   "id": "4d9ae7da-b347-4606-9137-3eea267c3abc",
   "metadata": {},
   "outputs": [
    {
     "name": "stdout",
     "output_type": "stream",
     "text": [
      "2\n"
     ]
    }
   ],
   "source": [
    "#4and5\n",
    "def check_for_line():\n",
    "    with open(\"practice.txt\",\"r\") as f:\n",
    "        word=\"learning\"\n",
    "        data=True\n",
    "        line_no=1\n",
    "        while data:\n",
    "            data=f.readline()\n",
    "            if(word in data):\n",
    "                print(line_no)\n",
    "                return\n",
    "            line_no+=1   \n",
    "    return -1      \n",
    "check_for_line()"
   ]
  },
  {
   "cell_type": "code",
   "execution_count": 66,
   "id": "03e1a816-f3b9-487b-94c8-66acf168f1c7",
   "metadata": {},
   "outputs": [
    {
     "name": "stdout",
     "output_type": "stream",
     "text": [
      "1, 2, 76, 84, 90, 101\n",
      "['1', ' 2', ' 76', ' 84', ' 90', ' 101']\n",
      "4\n"
     ]
    }
   ],
   "source": [
    "#6\n",
    "with open(\"sample1.txt\",\"r\") as f:\n",
    "    data=f.read()\n",
    "    print(data)\n",
    "    count=0\n",
    "    nums=data.split(\",\")\n",
    "    print(nums)\n",
    "    for i in nums:\n",
    "        if(int(i)%2 == 0):\n",
    "            count += 1\n",
    "print(count)"
   ]
  },
  {
   "cell_type": "code",
   "execution_count": null,
   "id": "8413ebe8-7071-4994-9315-c4ee48cb578c",
   "metadata": {},
   "outputs": [],
   "source": []
  }
 ],
 "metadata": {
  "kernelspec": {
   "display_name": "Python 3 (ipykernel)",
   "language": "python",
   "name": "python3"
  },
  "language_info": {
   "codemirror_mode": {
    "name": "ipython",
    "version": 3
   },
   "file_extension": ".py",
   "mimetype": "text/x-python",
   "name": "python",
   "nbconvert_exporter": "python",
   "pygments_lexer": "ipython3",
   "version": "3.11.3"
  }
 },
 "nbformat": 4,
 "nbformat_minor": 5
}
